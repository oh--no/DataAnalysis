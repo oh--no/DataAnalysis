{
 "cells": [
  {
   "cell_type": "code",
   "execution_count": 2,
   "metadata": {
    "collapsed": false
   },
   "outputs": [
    {
     "name": "stdout",
     "output_type": "stream",
     "text": [
      "251229000.0\n"
     ]
    }
   ],
   "source": [
    "print(float(2.51229e+08))"
   ]
  },
  {
   "cell_type": "code",
   "execution_count": 1,
   "metadata": {
    "collapsed": false
   },
   "outputs": [
    {
     "name": "stdout",
     "output_type": "stream",
     "text": [
      "('2.512e+08', '2.51229e+08')\n"
     ]
    }
   ],
   "source": [
    "area = '{2.512e+08|2.51229e+08}'\n",
    "larea = area.strip('{')\n",
    "rarea = larea.strip('}')\n",
    "a,b = rarea.split('|')\n",
    "print(a,b)"
   ]
  },
  {
   "cell_type": "code",
   "execution_count": 5,
   "metadata": {
    "collapsed": false
   },
   "outputs": [
    {
     "name": "stdout",
     "output_type": "stream",
     "text": [
      "33.08\n",
      "75.28\n",
      "(True, True)\n",
      "(33.08, 33.08, 75.28, 75.28)\n"
     ]
    },
    {
     "data": {
      "text/plain": [
       "True"
      ]
     },
     "execution_count": 5,
     "metadata": {},
     "output_type": "execute_result"
    }
   ],
   "source": [
    "def check_loc(point, lat, longi):\n",
    "    p_lat,p_longi = point.split(' ')\n",
    "    print(p_lat)\n",
    "    print(p_longi)\n",
    "    print(round(float(p_lat),2) == round(float(lat),2),round(float(p_longi),2) == round(float(longi),2))\n",
    "    if round(float(p_lat),2) == round(float(lat),2) and round(float(p_longi),2) == round(float(longi),2):\n",
    "        print(round(float(p_lat),2),round(float(lat),2),round(float(p_longi),2),round(float(longi),2))\n",
    "        return True\n",
    "    else:\n",
    "        print(round(float(p_lat),2),round(float(lat),2),round(float(p_longi),2),round(float(longi),2))\n",
    "        return False\n",
    "\n",
    "check_loc(\"33.08 75.28\", \"33.08\", \"75.28\") == True"
   ]
  }
 ],
 "metadata": {
  "kernelspec": {
   "display_name": "Python [conda root]",
   "language": "python",
   "name": "conda-root-py"
  },
  "language_info": {
   "codemirror_mode": {
    "name": "ipython",
    "version": 2
   },
   "file_extension": ".py",
   "mimetype": "text/x-python",
   "name": "python",
   "nbconvert_exporter": "python",
   "pygments_lexer": "ipython2",
   "version": "2.7.13"
  }
 },
 "nbformat": 4,
 "nbformat_minor": 2
}
